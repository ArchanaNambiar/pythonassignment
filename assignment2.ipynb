{
 "cells": [
  {
   "cell_type": "code",
   "execution_count": 1,
   "metadata": {},
   "outputs": [
    {
     "name": "stdout",
     "output_type": "stream",
     "text": [
      "120\n"
     ]
    }
   ],
   "source": [
    "\"\"\"Write a Python Program to implement your own myreduce() function which works exactly like Python's built-in function reduce()\"\"\"\n",
    "def multiply(a,b):\n",
    "    return a*b\n",
    "def myreduce(funct,lst):\n",
    "    c=lst[0]\n",
    "    for i in lst[1:] :\n",
    "        c=funct(c,i)\n",
    "    return c    \n",
    "\n",
    "\n",
    "print(myreduce(multiply,[1,2,3,4,5]))\n",
    "    "
   ]
  },
  {
   "cell_type": "code",
   "execution_count": 2,
   "metadata": {},
   "outputs": [
    {
     "name": "stdout",
     "output_type": "stream",
     "text": [
      "[1, 3, 5, 7, 9]\n"
     ]
    }
   ],
   "source": [
    "\"\"\"Write a Python program to implement your own myfilter() function which works exactly like Python's built-in function filter()\"\"\"\n",
    "def is_odd(num):\n",
    "    if num%2!=0 :\n",
    "        return True\n",
    "    else :\n",
    "        return False\n",
    "def myfilter(funct,lst) :\n",
    "    m=[] \n",
    "    for i in lst :\n",
    "        if funct(i):\n",
    "            \n",
    "            m.append(i)\n",
    "    return m       \n",
    "\n",
    "print(myfilter(is_odd,[1,2,3,4,5,6,7,8,9]))"
   ]
  },
  {
   "cell_type": "code",
   "execution_count": 3,
   "metadata": {},
   "outputs": [
    {
     "name": "stdout",
     "output_type": "stream",
     "text": [
      "['A', 'C', 'A', 'D', 'G', 'I', 'L', 'D']\n",
      "['x', 'xx', 'xxx', 'xxxx', 'y', 'yy', 'yyy', 'yyyy', 'z', 'zz', 'zzz', 'zzzz']\n",
      "['x', 'y', 'z', 'xx', 'yy', 'zz', 'xxx', 'yyy', 'zzz', 'xxxx', 'yyyy', 'zzzz']\n",
      "[[2], [3], [4], [3], [4], [5], [4], [5], [6]]\n",
      "[[2, 3, 4, 5], [3, 4, 5, 6], [4, 5, 6, 7], [5, 6, 7, 8]]\n",
      "[(1, 1), (2, 1), (3, 1), (1, 2), (2, 2), (3, 2), (1, 3), (2, 3), (3, 3)]\n"
     ]
    }
   ],
   "source": [
    "\"\"\"\n",
    "Implement List comprehensions to produce the following lists.\n",
    "Write List comprehensions to produce the following Lists\n",
    "['A', 'C', 'A', 'D', 'G', 'I', ’L’, ‘ D’]\n",
    "['x', 'xx', 'xxx', 'xxxx', 'y', 'yy', 'yyy', 'yyyy', 'z', 'zz', 'zzz', 'zzzz']\n",
    "['x', 'y', 'z', 'xx', 'yy', 'zz', 'xxx', 'yyy', 'zzz', 'xxxx', 'yyyy', 'zzzz']\n",
    "[[2], [3], [4], [3], [4], [5], [4], [5], [6]]\n",
    "[[2, 3, 4, 5], [3, 4, 5, 6], [4, 5, 6, 7], [5, 6, 7, 8]]\n",
    "[(1, 1), (2, 1), (3, 1), (1, 2), (2, 2), (3, 2), (1, 3), (2, 3), (3, 3)]\"\"\"\n",
    "\n",
    "\n",
    "\"\"\"Write List comprehensions to produce the following Lists ['A', 'C', 'A', 'D', 'G', 'I', ’L’, ‘ D’]\"\"\"\n",
    "\n",
    "word= \"ACADGILD\"\n",
    "m = [ i for i in word ]\n",
    "print (str(m))\n",
    "\n",
    "\n",
    "\n",
    "\"\"\"Write List comprehensions to produce the following \n",
    "Lists ['x', 'xx', 'xxx', 'xxxx', 'y', 'yy', 'yyy', 'yyyy', 'z', 'zz', 'zzz', 'zzzz']\"\"\"\n",
    "\n",
    "inlst= ['x','y','z']\n",
    "d = [ j*n for j in inlst for n in range(1,5)  ]\n",
    "print(str(d))\n",
    "\n",
    "\n",
    "\"\"\"Write List comprehensions to produce the following Lists \n",
    "['x', 'y', 'z', 'xx', 'yy', 'zz', 'xxx', 'yyy', 'zzz', 'xxxx', 'yyyy', 'zzzz']\"\"\"\n",
    "\n",
    "\n",
    "inlst = ['x','y','z']\n",
    "d = [ j*n for n in range(1,5) for j in inlst  ]\n",
    "print(str(d))\n",
    "\n",
    "\n",
    "\"\"\"Write List comprehensions to produce the following Lists \n",
    "[[2], [3], [4], [3], [4], [5], [4], [5], [6]]\"\"\"\n",
    "\n",
    "inlist = [2,3,4]\n",
    "d= [ [j+n] for j in inlist for n in range(0,3)]\n",
    "print(str(d))\n",
    "\n",
    "\n",
    "\"\"\"Write List comprehensions to produce the following Lists [[2, 3, 4, 5], [3, 4, 5, 6], [4, 5, 6, 7], [5, 6, 7, 8]]\"\"\"\n",
    "\n",
    "inlist = [2,3,4,5]\n",
    "d= [ [j+n for j in inlist] for n in range(0,4)  ]\n",
    "print(str(d))\n",
    "\n",
    "\n",
    "\"\"\"Write List comprehensions to produce the following Lists \n",
    "[(1, 1), (2, 1), (3, 1), (1, 2), (2, 2), (3, 2), (1, 3), (2, 3), (3, 3)]\"\"\"\n",
    "\n",
    "\n",
    "inlist=[1,2,3]\n",
    "d = [ (a,b) for b in inlist for a in inlist]\n",
    "print(str(d))\n",
    "\n"
   ]
  },
  {
   "cell_type": "code",
   "execution_count": 6,
   "metadata": {},
   "outputs": [
    {
     "name": "stdout",
     "output_type": "stream",
     "text": [
      "The longest word in list of words is:\n",
      "sappodilla\n"
     ]
    }
   ],
   "source": [
    "\"\"\"Implement a function longestWord() that takes a list of words and returns the longest one\"\"\"\n",
    "def longestWord(lst) :\n",
    "    m=[]\n",
    "    \n",
    "   # lst=[\"cherry\",\"pineapple\",\"mango\",\"sappodilla\"]\n",
    "    for i in lst:\n",
    "        m.append(i)\n",
    "        \n",
    "    longst=len(m[0])\n",
    "    temp=m[0]\n",
    "    for j in m:\n",
    "        if(len(j)>longst):\n",
    "            longst=len(j)\n",
    "            temp=j\n",
    "    print(\"The longest word in list of words is:\")\n",
    "    return temp\n",
    "print(longestWord([\"cherry\",\"pineapple\",\"mango\",\"banana\",\"sappodilla\"]))"
   ]
  },
  {
   "cell_type": "code",
   "execution_count": 10,
   "metadata": {},
   "outputs": [
    {
     "name": "stdout",
     "output_type": "stream",
     "text": [
      "enter the first side:5\n",
      "enter the second side:6\n",
      "enter the third side:7\n"
     ]
    },
    {
     "data": {
      "text/plain": [
       "14.696938456699069"
      ]
     },
     "execution_count": 10,
     "metadata": {},
     "output_type": "execute_result"
    }
   ],
   "source": [
    "\"\"\"Write a Python Program(with class concepts) to find the area of the triangle using the below formula.\n",
    "area = (s*(s-a)*(s-b)*(s-c)) ** 0.5\n",
    "Function to take the length of the sides of triangle from user should be defined in the parent\n",
    "class and function to calculate the area should be defined in subclass.\"\"\"\n",
    "class side_triangle:\n",
    "    def __init__(self):\n",
    "        self.a = float(input(\"enter the first side:\")) \n",
    "        self.b = float(input(\"enter the second side:\"))  \n",
    "        self.c = float(input(\"enter the third side:\"))\n",
    "            \n",
    "   \n",
    "            \n",
    "            \n",
    "            \n",
    "class triangle_area(side_triangle):\n",
    "    def __init__(self):\n",
    "        side_triangle.__init__(self)\n",
    "    def area(self):\n",
    "        s =(self.a+self.b+self.c)/2\n",
    "        area = (s*(s-self.a)*(s-self.b)*(s-self.c)) ** 0.5\n",
    "        return area\n",
    "        print(area) \n",
    "   \n",
    "t=triangle_area()\n",
    "t.area()"
   ]
  },
  {
   "cell_type": "code",
   "execution_count": 11,
   "metadata": {},
   "outputs": [
    {
     "name": "stdout",
     "output_type": "stream",
     "text": [
      "['about', 'banana']\n"
     ]
    }
   ],
   "source": [
    "\"\"\"Write a function filter_long_words() that takes a list of words and an integer n and returns the list\n",
    "of words that are longer than n.\"\"\"\n",
    "def filter_long_words(words, n):\n",
    "    return [word for word in words if len(word) > n]\n",
    "\n",
    "\n",
    "if __name__ == \"__main__\":\n",
    "    print (filter_long_words ([\"a\",\"be\",\"cup\",\"none\",\"about\",\"banana\"], 4))"
   ]
  },
  {
   "cell_type": "code",
   "execution_count": 12,
   "metadata": {},
   "outputs": [
    {
     "name": "stdout",
     "output_type": "stream",
     "text": [
      "words length in array :[1, 2, 3, 4, 5]\n"
     ]
    }
   ],
   "source": [
    "\"\"\"Write a Python program using function concept that maps list of words into a list of integers representing the lengths of the corresponding words .\"\"\"\n",
    "\n",
    "\n",
    "wordlist = [\"a\",\"be\",\"and\",\"none\",\"about\" ]\n",
    "\n",
    "def wordlength(wordlist):\n",
    "     return list(map(lambda x: len(x), wordlist))\n",
    "\n",
    "print (\"words length in array :\" + str(wordlength(wordlist)))"
   ]
  },
  {
   "cell_type": "code",
   "execution_count": 24,
   "metadata": {},
   "outputs": [
    {
     "name": "stdout",
     "output_type": "stream",
     "text": [
      "False\n",
      "True\n",
      "only one char allowded\n",
      "None\n"
     ]
    }
   ],
   "source": [
    "\"\"\"Write a Python function which takes a character (i.e. a string of length 1) and returns True if it is a vowel, False otherwise.\n",
    "\"\"\"\n",
    "\n",
    "def checkVowel(char):\n",
    "    vowel=[\"a\",\"e\",\"i\",\"o\",\"u\",\"A\",\"E\",\"I\",\"O\",\"U\"]\n",
    "    if len(char) ==1:\n",
    "        if char in vowel:\n",
    "            return True\n",
    "        else:\n",
    "            return False\n",
    "    else:\n",
    "        print(\"only one char allowded\")\n",
    "           \n",
    "        \n",
    "print(checkVowel('d'))\n",
    "print(checkVowel('e'))\n",
    "print(checkVowel('ln'))"
   ]
  },
  {
   "cell_type": "code",
   "execution_count": null,
   "metadata": {},
   "outputs": [],
   "source": []
  },
  {
   "cell_type": "code",
   "execution_count": null,
   "metadata": {},
   "outputs": [],
   "source": []
  }
 ],
 "metadata": {
  "kernelspec": {
   "display_name": "Python 3",
   "language": "python",
   "name": "python3"
  },
  "language_info": {
   "codemirror_mode": {
    "name": "ipython",
    "version": 3
   },
   "file_extension": ".py",
   "mimetype": "text/x-python",
   "name": "python",
   "nbconvert_exporter": "python",
   "pygments_lexer": "ipython3",
   "version": "3.7.0"
  }
 },
 "nbformat": 4,
 "nbformat_minor": 2
}
